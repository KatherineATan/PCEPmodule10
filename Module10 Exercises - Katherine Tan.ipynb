{
 "cells": [
  {
   "cell_type": "markdown",
   "metadata": {},
   "source": [
    "### Exercise 1\n",
    "Create a file called <b>exercise1.txt</b> and write following lines:\n",
    "\n",
    "    Twinkle, twinkle, little star,\n",
    "    How I wonder what you are.\n",
    "    Up above the world so high,\n",
    "    Like a diamond in the sky.\n",
    "    \n",
    "    \n",
    "Don't forget to close the file.        "
   ]
  },
  {
   "cell_type": "code",
   "execution_count": 1,
   "metadata": {},
   "outputs": [],
   "source": [
    "with open(\"exercise1.txt\", \"w+\") as ex1 :\n",
    "    ex1.write(\"Twinkle, twinkle, little star, \\nHow I wonder what you are. \\nUp above the world so high, \\nLike a diamond in the sky.\")\n",
    "    \n"
   ]
  },
  {
   "cell_type": "code",
   "execution_count": null,
   "metadata": {},
   "outputs": [],
   "source": []
  },
  {
   "cell_type": "markdown",
   "metadata": {},
   "source": [
    "### Exercise 2\n",
    "Append following lines to a file called <b>exercise1.txt</b>:\n",
    "\n",
    "    Twinkle, twinkle, little star,\n",
    "    How I wonder what you are.\n",
    "    \n",
    "Don't forget to close the file.    "
   ]
  },
  {
   "cell_type": "code",
   "execution_count": 1,
   "metadata": {},
   "outputs": [],
   "source": [
    "with open(\"exercise1.txt\", \"a+\") as ex1 :\n",
    "    ex1.write(\"\\nTwinkle, twinkle, little star, \\nHow I wonder what you are.\")"
   ]
  },
  {
   "cell_type": "code",
   "execution_count": null,
   "metadata": {},
   "outputs": [],
   "source": []
  },
  {
   "cell_type": "markdown",
   "metadata": {},
   "source": [
    "### Exercise 3\n",
    "Read a file, <b>exercise1.txt</b> and print the content of the file using a loop.\n",
    "    \n",
    "Don't forget to close the file.    "
   ]
  },
  {
   "cell_type": "code",
   "execution_count": 2,
   "metadata": {},
   "outputs": [
    {
     "name": "stdout",
     "output_type": "stream",
     "text": [
      "Twinkle, twinkle, little star, \n",
      "\n",
      "How I wonder what you are. \n",
      "\n",
      "Up above the world so high, \n",
      "\n",
      "Like a diamond in the sky.\n",
      "\n",
      "Twinkle, twinkle, little star, \n",
      "\n",
      "How I wonder what you are.\n",
      "\n",
      "Twinkle, twinkle, little star, \n",
      "\n",
      "How I wonder what you are.\n"
     ]
    }
   ],
   "source": [
    "with open(\"exercise1.txt\", \"r\") as ex1 :\n",
    "    for line in ex1 :\n",
    "        print(line)"
   ]
  },
  {
   "cell_type": "code",
   "execution_count": null,
   "metadata": {},
   "outputs": [],
   "source": [
    "\n",
    "\n",
    "\n",
    "\n",
    "    "
   ]
  },
  {
   "cell_type": "markdown",
   "metadata": {},
   "source": [
    "### Exercise 4\n",
    "Read line number 4 from the file, <b>exercise1.txt</b>."
   ]
  },
  {
   "cell_type": "code",
   "execution_count": 3,
   "metadata": {},
   "outputs": [
    {
     "name": "stdout",
     "output_type": "stream",
     "text": [
      "Like a diamond in the sky.\n",
      "\n"
     ]
    }
   ],
   "source": [
    "with open(\"exercise1.txt\", \"r\") as ex1 :\n",
    "    for line in range(4) :\n",
    "        line = ex1.readline()\n",
    "    print(line)"
   ]
  },
  {
   "cell_type": "code",
   "execution_count": null,
   "metadata": {},
   "outputs": [],
   "source": []
  },
  {
   "cell_type": "markdown",
   "metadata": {},
   "source": [
    "### Exercise 5\n",
    "Write a program that asks the user for a number and a file name, then prints out the number from 1 to that number, one one each line to a file named using user's input.\n",
    "Then, read that file and print out its content."
   ]
  },
  {
   "cell_type": "code",
   "execution_count": null,
   "metadata": {},
   "outputs": [],
   "source": []
  },
  {
   "cell_type": "code",
   "execution_count": 4,
   "metadata": {},
   "outputs": [
    {
     "name": "stdout",
     "output_type": "stream",
     "text": [
      "Enter a number: 6\n",
      "Enter a name for a file: aname\n",
      "1\n",
      "2\n",
      "3\n",
      "4\n",
      "5\n",
      "6\n",
      "\n"
     ]
    }
   ],
   "source": [
    "user_numb = int(input(\"Enter a number: \"))\n",
    "user_file_name = input(\"Enter a name for a file: \")\n",
    "\n",
    "with open(user_file_name, \"w+\") as file :\n",
    "    for numb in range(1, user_numb + 1) :\n",
    "        file.write(str(numb)+\"\\n\")\n",
    "\n",
    "with open(user_file_name, \"r\") as file :\n",
    "    print(file.read())"
   ]
  },
  {
   "cell_type": "markdown",
   "metadata": {},
   "source": [
    "### Exercise 6\n",
    "Merge a file from exercise 5 and <b>exercise1.txt</b> to a file called <b>merged.txt</b>. Then, prin out the content of <b>merged.txt</b> before closing the file."
   ]
  },
  {
   "cell_type": "code",
   "execution_count": 5,
   "metadata": {},
   "outputs": [
    {
     "name": "stdout",
     "output_type": "stream",
     "text": [
      "Twinkle, twinkle, little star, \n",
      "How I wonder what you are. \n",
      "Up above the world so high, \n",
      "Like a diamond in the sky.\n",
      "Twinkle, twinkle, little star, \n",
      "How I wonder what you are.\n",
      "Twinkle, twinkle, little star, \n",
      "How I wonder what you are.\n",
      "1\n",
      "2\n",
      "3\n",
      "4\n",
      "5\n",
      "6\n",
      "\n"
     ]
    }
   ],
   "source": [
    "with open(\"merged.txt\", \"w+\") as merged :\n",
    "    with open(\"exercise1.txt\", \"r\") as ex1 :\n",
    "        for line in ex1 :\n",
    "            merged.write(line)\n",
    "    \n",
    "    merged.write(\"\\n\")\n",
    "    \n",
    "    with open(user_file_name, \"r\") as ex5 :\n",
    "        for line in ex5 :\n",
    "            merged.write(line)\n",
    "            \n",
    "with open(\"merged.txt\", \"r\") as merged :\n",
    "    print(merged.read())\n"
   ]
  },
  {
   "cell_type": "code",
   "execution_count": null,
   "metadata": {},
   "outputs": [],
   "source": []
  },
  {
   "cell_type": "code",
   "execution_count": null,
   "metadata": {},
   "outputs": [],
   "source": []
  }
 ],
 "metadata": {
  "kernelspec": {
   "display_name": "Python 3",
   "language": "python",
   "name": "python3"
  },
  "language_info": {
   "codemirror_mode": {
    "name": "ipython",
    "version": 3
   },
   "file_extension": ".py",
   "mimetype": "text/x-python",
   "name": "python",
   "nbconvert_exporter": "python",
   "pygments_lexer": "ipython3",
   "version": "3.8.8"
  }
 },
 "nbformat": 4,
 "nbformat_minor": 4
}
